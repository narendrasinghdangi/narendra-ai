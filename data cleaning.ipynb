{
 "cells": [
  {
   "cell_type": "code",
   "execution_count": 35,
   "id": "5a947598-8bee-4a79-8b5f-9c90c0f10ef1",
   "metadata": {},
   "outputs": [],
   "source": [
    "import os\n",
    "import re\n",
    "import pandas as pd"
   ]
  },
  {
   "cell_type": "code",
   "execution_count": 36,
   "id": "8fb04113-230b-4ef6-9828-cfc839061a55",
   "metadata": {},
   "outputs": [],
   "source": [
    "directory = \"data\""
   ]
  },
  {
   "cell_type": "code",
   "execution_count": 37,
   "id": "27f96daf-1a66-4d9d-a043-cefc58a7a0a3",
   "metadata": {},
   "outputs": [],
   "source": [
    "txt_files = [f for f in os.listdir(directory) if f.endswith('.txt')]"
   ]
  },
  {
   "cell_type": "code",
   "execution_count": 38,
   "id": "255c3590-8be8-4653-a61b-0b9df5fe8b62",
   "metadata": {},
   "outputs": [
    {
     "data": {
      "text/plain": [
       "['_chat 10.txt',\n",
       " '_chat 11.txt',\n",
       " '_chat 12.txt',\n",
       " '_chat 13.txt',\n",
       " '_chat 14.txt',\n",
       " '_chat 15.txt',\n",
       " '_chat 16.txt',\n",
       " '_chat 17.txt',\n",
       " '_chat 18.txt',\n",
       " '_chat 19.txt',\n",
       " '_chat 2.txt',\n",
       " '_chat 20.txt',\n",
       " '_chat 21.txt',\n",
       " '_chat 22.txt',\n",
       " '_chat 23.txt',\n",
       " '_chat 24.txt',\n",
       " '_chat 25.txt',\n",
       " '_chat 26.txt',\n",
       " '_chat 27.txt',\n",
       " '_chat 28.txt',\n",
       " '_chat 29.txt',\n",
       " '_chat 3.txt',\n",
       " '_chat 30.txt',\n",
       " '_chat 31.txt',\n",
       " '_chat 32.txt',\n",
       " '_chat 33.txt',\n",
       " '_chat 34.txt',\n",
       " '_chat 35.txt',\n",
       " '_chat 36.txt',\n",
       " '_chat 37.txt',\n",
       " '_chat 38.txt',\n",
       " '_chat 39.txt',\n",
       " '_chat 4.txt',\n",
       " '_chat 40.txt',\n",
       " '_chat 41.txt',\n",
       " '_chat 42.txt',\n",
       " '_chat 43.txt',\n",
       " '_chat 44.txt',\n",
       " '_chat 45.txt',\n",
       " '_chat 46.txt',\n",
       " '_chat 48.txt',\n",
       " '_chat 5.txt',\n",
       " '_chat 50.txt',\n",
       " '_chat.txt']"
      ]
     },
     "execution_count": 38,
     "metadata": {},
     "output_type": "execute_result"
    }
   ],
   "source": [
    "txt_files"
   ]
  },
  {
   "cell_type": "code",
   "execution_count": 39,
   "id": "0b279020-a58e-4f60-be3c-1988f3e5f0a6",
   "metadata": {},
   "outputs": [
    {
     "data": {
      "text/plain": [
       "44"
      ]
     },
     "execution_count": 39,
     "metadata": {},
     "output_type": "execute_result"
    }
   ],
   "source": [
    "len(txt_files)"
   ]
  },
  {
   "cell_type": "code",
   "execution_count": null,
   "id": "5a813af1-c9b2-4faa-9548-d339da76156b",
   "metadata": {},
   "outputs": [],
   "source": []
  },
  {
   "cell_type": "code",
   "execution_count": null,
   "id": "67bd233d-478a-444b-b8cf-2458e978fefd",
   "metadata": {},
   "outputs": [],
   "source": []
  },
  {
   "cell_type": "code",
   "execution_count": 40,
   "id": "70b93596-8bc5-47c3-b1f9-81f800d1b7e3",
   "metadata": {},
   "outputs": [],
   "source": [
    "def create_data(df):\n",
    "    data=[]\n",
    "    pattern = re.compile(r'\\[(.*?)\\] (.*?): (.*)')\n",
    "    for i in range(len(df)):\n",
    "        line =df[0][i]\n",
    "        match = pattern.match(line)\n",
    "        if match:\n",
    "            timestamp, sender, message = match.groups()\n",
    "            if sender.strip().lower() == 'narendra':\n",
    "                role = 'assistant'\n",
    "            else:\n",
    "                role = 'user'\n",
    "            # Store the parsed data\n",
    "            data.append([role, message])\n",
    "        else:\n",
    "            role=\"assistant\"\n",
    "            data.append([role,line])\n",
    "    return data"
   ]
  },
  {
   "cell_type": "code",
   "execution_count": 41,
   "id": "29b5983a-77df-4591-8481-3d84be6f4796",
   "metadata": {},
   "outputs": [],
   "source": [
    "def combine_messages(messages):\n",
    "    combined = []\n",
    "    current_sender = None\n",
    "    current_message = []\n",
    "\n",
    "    for sender, text in messages:\n",
    "        if sender == current_sender:\n",
    "            current_message.append(text)\n",
    "        else:\n",
    "            if current_message:\n",
    "                combined.append([current_sender, ' '.join(current_message)])\n",
    "            current_sender = sender\n",
    "            current_message = [text]\n",
    "\n",
    "    if current_message:\n",
    "        combined.append([current_sender, ' '.join(current_message)])\n",
    "\n",
    "    return combined\n",
    "\n",
    "\n"
   ]
  },
  {
   "cell_type": "code",
   "execution_count": null,
   "id": "c5ea5732-e9fd-4f3a-b8f0-c2769409f37d",
   "metadata": {},
   "outputs": [],
   "source": []
  },
  {
   "cell_type": "code",
   "execution_count": 42,
   "id": "170e2616-f040-4862-b72e-fc88b05f25b6",
   "metadata": {},
   "outputs": [
    {
     "name": "stdout",
     "output_type": "stream",
     "text": [
      "data\\_chat 10.txt\n",
      "26\n",
      "data\\_chat 11.txt\n",
      "182\n",
      "data\\_chat 12.txt\n",
      "192\n",
      "data\\_chat 13.txt\n",
      "196\n",
      "data\\_chat 14.txt\n",
      "202\n",
      "data\\_chat 15.txt\n",
      "222\n",
      "data\\_chat 16.txt\n",
      "226\n",
      "data\\_chat 17.txt\n",
      "280\n",
      "data\\_chat 18.txt\n",
      "282\n",
      "data\\_chat 19.txt\n",
      "452\n",
      "data\\_chat 2.txt\n",
      "522\n",
      "data\\_chat 20.txt\n",
      "528\n",
      "data\\_chat 21.txt\n",
      "536\n",
      "data\\_chat 22.txt\n",
      "554\n",
      "data\\_chat 23.txt\n",
      "566\n",
      "data\\_chat 24.txt\n",
      "590\n",
      "data\\_chat 25.txt\n",
      "610\n",
      "data\\_chat 26.txt\n",
      "618\n",
      "data\\_chat 27.txt\n",
      "636\n",
      "data\\_chat 28.txt\n",
      "684\n",
      "data\\_chat 29.txt\n",
      "688\n",
      "data\\_chat 3.txt\n",
      "692\n",
      "data\\_chat 30.txt\n",
      "720\n",
      "data\\_chat 31.txt\n",
      "726\n",
      "data\\_chat 32.txt\n",
      "748\n",
      "data\\_chat 33.txt\n",
      "768\n",
      "data\\_chat 34.txt\n",
      "780\n",
      "data\\_chat 35.txt\n",
      "796\n",
      "data\\_chat 36.txt\n",
      "866\n",
      "data\\_chat 37.txt\n",
      "894\n",
      "data\\_chat 38.txt\n",
      "898\n",
      "data\\_chat 39.txt\n",
      "914\n",
      "data\\_chat 4.txt\n",
      "946\n",
      "data\\_chat 40.txt\n",
      "952\n",
      "data\\_chat 41.txt\n",
      "954\n",
      "data\\_chat 42.txt\n",
      "968\n",
      "data\\_chat 43.txt\n",
      "974\n",
      "data\\_chat 44.txt\n",
      "1026\n",
      "data\\_chat 45.txt\n",
      "1036\n",
      "data\\_chat 46.txt\n",
      "1048\n",
      "data\\_chat 48.txt\n",
      "1058\n",
      "data\\_chat 5.txt\n",
      "1064\n",
      "data\\_chat 50.txt\n",
      "1068\n",
      "data\\_chat.txt\n",
      "1088\n"
     ]
    }
   ],
   "source": [
    "all_data=[]\n",
    "i=0\n",
    "for file in txt_files:\n",
    "    file_path = os.path.join(directory, file)\n",
    "    print(file_path)\n",
    "    df = pd.read_csv(file_path, delimiter='\\t',header=None)\n",
    "    data=create_data(df)\n",
    "    combined_messages = combine_messages(data)\n",
    "    for message in combined_messages:\n",
    "        all_data.append(message)\n",
    "    i=i+1\n",
    "    print(len(all_data))"
   ]
  },
  {
   "cell_type": "code",
   "execution_count": 1,
   "id": "adc1bf3c-d346-4fbb-8a1c-e96426fe811e",
   "metadata": {},
   "outputs": [
    {
     "ename": "NameError",
     "evalue": "name 'all_data' is not defined",
     "output_type": "error",
     "traceback": [
      "\u001b[1;31m---------------------------------------------------------------------------\u001b[0m",
      "\u001b[1;31mNameError\u001b[0m                                 Traceback (most recent call last)",
      "Cell \u001b[1;32mIn[1], line 1\u001b[0m\n\u001b[1;32m----> 1\u001b[0m \u001b[43mall_data\u001b[49m\n",
      "\u001b[1;31mNameError\u001b[0m: name 'all_data' is not defined"
     ]
    }
   ],
   "source": [
    "all_data"
   ]
  },
  {
   "cell_type": "code",
   "execution_count": null,
   "id": "91d4e28d-e107-49b3-b614-ca5a613f6d68",
   "metadata": {},
   "outputs": [
    {
     "data": {
      "text/plain": [
       "1088"
      ]
     },
     "execution_count": 44,
     "metadata": {},
     "output_type": "execute_result"
    }
   ],
   "source": [
    "len(all_data)"
   ]
  },
  {
   "cell_type": "code",
   "execution_count": null,
   "id": "33bccec3-92b8-4c84-8bb1-cd29a6d59d8f",
   "metadata": {},
   "outputs": [],
   "source": []
  },
  {
   "cell_type": "code",
   "execution_count": 45,
   "id": "c1aa8f80-23c5-43d3-8d5e-3f4e5da649eb",
   "metadata": {},
   "outputs": [],
   "source": [
    "import csv"
   ]
  },
  {
   "cell_type": "code",
   "execution_count": 46,
   "id": "5d22f47a-d24c-4390-864a-b1df6210c91e",
   "metadata": {},
   "outputs": [],
   "source": [
    "# Define the output file name\n",
    "output_file = 'output.csv'\n",
    "\n",
    "# Write data to CSV\n",
    "with open(output_file, mode='w', newline='', encoding='utf-8') as file:\n",
    "    writer = csv.writer(file)\n",
    "    # Write the header\n",
    "    writer.writerow(['user', 'assistant'])\n",
    "    # Write the data\n",
    "    for i in range(0,len(all_data),2):\n",
    "        user_message=all_data[i][1]\n",
    "        assistant_message=all_data[i+1][1]\n",
    "        writer.writerow([user_message,assistant_message])"
   ]
  },
  {
   "cell_type": "code",
   "execution_count": 47,
   "id": "9411f5cd-9796-45ae-afce-9097b305a5d2",
   "metadata": {},
   "outputs": [
    {
     "data": {
      "text/plain": [
       "'output.csv'"
      ]
     },
     "execution_count": 47,
     "metadata": {},
     "output_type": "execute_result"
    }
   ],
   "source": [
    "output_file"
   ]
  },
  {
   "cell_type": "code",
   "execution_count": null,
   "id": "5cf54e16-5922-48fa-8f65-c6d55abddad5",
   "metadata": {},
   "outputs": [],
   "source": []
  },
  {
   "cell_type": "code",
   "execution_count": null,
   "id": "2f0565a1-426b-48cc-ad15-7beb7527f41b",
   "metadata": {},
   "outputs": [],
   "source": []
  },
  {
   "cell_type": "code",
   "execution_count": 48,
   "id": "58aab9f6-dbca-4515-a4e4-0747022ab982",
   "metadata": {},
   "outputs": [],
   "source": [
    "df=pd.read_csv(\"output.csv\")"
   ]
  },
  {
   "cell_type": "code",
   "execution_count": 1,
   "id": "b1a100c1-a594-41d2-9b97-0a1f348c973a",
   "metadata": {},
   "outputs": [
    {
     "ename": "NameError",
     "evalue": "name 'df' is not defined",
     "output_type": "error",
     "traceback": [
      "\u001b[1;31m---------------------------------------------------------------------------\u001b[0m",
      "\u001b[1;31mNameError\u001b[0m                                 Traceback (most recent call last)",
      "Cell \u001b[1;32mIn[1], line 1\u001b[0m\n\u001b[1;32m----> 1\u001b[0m \u001b[43mdf\u001b[49m\n",
      "\u001b[1;31mNameError\u001b[0m: name 'df' is not defined"
     ]
    }
   ],
   "source": [
    "df"
   ]
  },
  {
   "cell_type": "code",
   "execution_count": 50,
   "id": "bb0d5dcb-d688-41df-9410-e8eeb1dba668",
   "metadata": {},
   "outputs": [],
   "source": [
    "df_cleaned = df.drop_duplicates(subset=[\"user\"])"
   ]
  },
  {
   "cell_type": "code",
   "execution_count": 2,
   "id": "5d289cdb-a547-46fa-a588-0dd801fda475",
   "metadata": {},
   "outputs": [
    {
     "ename": "NameError",
     "evalue": "name 'df_cleaned' is not defined",
     "output_type": "error",
     "traceback": [
      "\u001b[1;31m---------------------------------------------------------------------------\u001b[0m",
      "\u001b[1;31mNameError\u001b[0m                                 Traceback (most recent call last)",
      "Cell \u001b[1;32mIn[2], line 1\u001b[0m\n\u001b[1;32m----> 1\u001b[0m \u001b[43mdf_cleaned\u001b[49m\n",
      "\u001b[1;31mNameError\u001b[0m: name 'df_cleaned' is not defined"
     ]
    }
   ],
   "source": [
    "df_cleaned"
   ]
  },
  {
   "cell_type": "code",
   "execution_count": 52,
   "id": "702e38f8-9ae7-4792-a085-b151643c61ef",
   "metadata": {},
   "outputs": [],
   "source": [
    "df_cleaned.to_csv(\"output.csv\")"
   ]
  },
  {
   "cell_type": "code",
   "execution_count": null,
   "id": "1d8ef0fe-c9f6-4f3e-acde-588cea2af57a",
   "metadata": {},
   "outputs": [],
   "source": []
  },
  {
   "cell_type": "code",
   "execution_count": 55,
   "id": "fcdd5de5-6017-45e6-9105-005aa262340c",
   "metadata": {},
   "outputs": [],
   "source": [
    "df1=pd.read_csv(\"chatgpt data.csv\")"
   ]
  },
  {
   "cell_type": "code",
   "execution_count": 3,
   "id": "34ea2614-a004-4dba-a1e5-a4eedb876c29",
   "metadata": {},
   "outputs": [
    {
     "ename": "NameError",
     "evalue": "name 'df1' is not defined",
     "output_type": "error",
     "traceback": [
      "\u001b[1;31m---------------------------------------------------------------------------\u001b[0m",
      "\u001b[1;31mNameError\u001b[0m                                 Traceback (most recent call last)",
      "Cell \u001b[1;32mIn[3], line 1\u001b[0m\n\u001b[1;32m----> 1\u001b[0m \u001b[43mdf1\u001b[49m\n",
      "\u001b[1;31mNameError\u001b[0m: name 'df1' is not defined"
     ]
    }
   ],
   "source": [
    "df1"
   ]
  },
  {
   "cell_type": "code",
   "execution_count": 57,
   "id": "cf10d410-e150-464d-9713-ec7c05560068",
   "metadata": {},
   "outputs": [],
   "source": [
    "df_cleaned1 = df1.drop_duplicates(subset=[\"user\"])"
   ]
  },
  {
   "cell_type": "code",
   "execution_count": 4,
   "id": "a9a656e0-627d-4fad-83e8-5d9ba9957a3c",
   "metadata": {},
   "outputs": [
    {
     "ename": "NameError",
     "evalue": "name 'df_cleaned1' is not defined",
     "output_type": "error",
     "traceback": [
      "\u001b[1;31m---------------------------------------------------------------------------\u001b[0m",
      "\u001b[1;31mNameError\u001b[0m                                 Traceback (most recent call last)",
      "Cell \u001b[1;32mIn[4], line 1\u001b[0m\n\u001b[1;32m----> 1\u001b[0m \u001b[43mdf_cleaned1\u001b[49m\n",
      "\u001b[1;31mNameError\u001b[0m: name 'df_cleaned1' is not defined"
     ]
    }
   ],
   "source": [
    "df_cleaned1"
   ]
  },
  {
   "cell_type": "code",
   "execution_count": 59,
   "id": "da59d3f3-b7d3-40a1-9cd4-2c3e2c1f77e6",
   "metadata": {},
   "outputs": [],
   "source": [
    "frames = [df_cleaned, df_cleaned1]"
   ]
  },
  {
   "cell_type": "code",
   "execution_count": 60,
   "id": "aa2dac06-88da-4bf6-af92-d9d8a9ec37b7",
   "metadata": {},
   "outputs": [],
   "source": [
    "result = pd.concat(frames)"
   ]
  },
  {
   "cell_type": "code",
   "execution_count": 5,
   "id": "4f225978-7e0d-452d-a337-9b28fa2a0b03",
   "metadata": {},
   "outputs": [
    {
     "ename": "NameError",
     "evalue": "name 'result' is not defined",
     "output_type": "error",
     "traceback": [
      "\u001b[1;31m---------------------------------------------------------------------------\u001b[0m",
      "\u001b[1;31mNameError\u001b[0m                                 Traceback (most recent call last)",
      "Cell \u001b[1;32mIn[5], line 1\u001b[0m\n\u001b[1;32m----> 1\u001b[0m \u001b[43mresult\u001b[49m\n",
      "\u001b[1;31mNameError\u001b[0m: name 'result' is not defined"
     ]
    }
   ],
   "source": [
    "result"
   ]
  },
  {
   "cell_type": "code",
   "execution_count": 62,
   "id": "f6b6d353-0996-4572-81d4-69dd0e39e4ec",
   "metadata": {},
   "outputs": [],
   "source": [
    "result.to_csv(\"output.csv\")"
   ]
  },
  {
   "cell_type": "code",
   "execution_count": null,
   "id": "af6d007b-28b9-4556-a1cc-89192be1a03d",
   "metadata": {},
   "outputs": [],
   "source": []
  }
 ],
 "metadata": {
  "kernelspec": {
   "display_name": "Python 3 (ipykernel)",
   "language": "python",
   "name": "python3"
  },
  "language_info": {
   "codemirror_mode": {
    "name": "ipython",
    "version": 3
   },
   "file_extension": ".py",
   "mimetype": "text/x-python",
   "name": "python",
   "nbconvert_exporter": "python",
   "pygments_lexer": "ipython3",
   "version": "3.11.9"
  }
 },
 "nbformat": 4,
 "nbformat_minor": 5
}
